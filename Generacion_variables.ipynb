{
 "cells": [
  {
   "cell_type": "markdown",
   "metadata": {},
   "source": [
    "# Utilidades"
   ]
  },
  {
   "cell_type": "code",
   "execution_count": null,
   "metadata": {},
   "outputs": [],
   "source": [
    "from pyspark.sql import functions as f"
   ]
  },
  {
   "cell_type": "code",
   "execution_count": null,
   "metadata": {},
   "outputs": [],
   "source": [
    "#Scroll horizontal en tablas\n",
    "\n",
    "from IPython.core.display import HTML\n",
    "display(HTML(\"<style>pre { white-space: pre !important; }</style>\"))"
   ]
  },
  {
   "cell_type": "markdown",
   "metadata": {},
   "source": [
    "# Código"
   ]
  },
  {
   "cell_type": "markdown",
   "metadata": {},
   "source": [
    "## Lectura"
   ]
  },
  {
   "cell_type": "code",
   "execution_count": null,
   "metadata": {},
   "outputs": [],
   "source": [
    "# Lectura del fichero persistido en el sandbox\n",
    "\n",
    "df=spark.read.parquet(\"/data/sandboxes/...\")"
   ]
  },
  {
   "cell_type": "code",
   "execution_count": null,
   "metadata": {},
   "outputs": [],
   "source": [
    "# Comprobación de la lectura correcta del fichero persistido\n",
    "\n",
    "df.show(5, False)"
   ]
  },
  {
   "cell_type": "markdown",
   "metadata": {},
   "source": [
    "## Creación de variables"
   ]
  },
  {
   "cell_type": "markdown",
   "metadata": {},
   "source": [
    "###  Particular_o_Autonomo "
   ]
  },
  {
   "cell_type": "code",
   "execution_count": null,
   "metadata": {},
   "outputs": [],
   "source": [
    "# Creación de variable *** Particular_o_Autonomo ***;\n",
    "\n",
    "df=df\\\n",
    ".withColumn('Tipo_cliente', f.when((f.col('work_contract_type')==\"1\"), 'A')\\\n",
    "            .otherwise('P'))"
   ]
  },
  {
   "cell_type": "code",
   "execution_count": null,
   "metadata": {},
   "outputs": [],
   "source": [
    "# Comprobración varible *** Particular_o_Autonomo ***;\n",
    "\n",
    "df\\\n",
    ".select(df.work_contract_type, df.Tipo_cliente)\\\n",
    ".filter(df.work_contract_type == '3').show(5, False)"
   ]
  },
  {
   "cell_type": "markdown",
   "metadata": {},
   "source": [
    "###  CNAE / CNO, para los autonomos viene informado en el campo CNAE/CNO, en el resto en el campo de actividad economica"
   ]
  },
  {
   "cell_type": "code",
   "execution_count": null,
   "metadata": {},
   "outputs": [],
   "source": [
    "# Creación de variable cnae_cno;\n",
    "\n",
    "df=df\\\n",
    ".withColumn('cnae_cno', f.when((f.col('work_contract_type')==\"1\"), df.cnae_cno_id)\\\n",
    "            .otherwise(df.company_cnae_id))"
   ]
  },
  {
   "cell_type": "code",
   "execution_count": null,
   "metadata": {},
   "outputs": [],
   "source": [
    "# Comprobración varible cnae_cno;\n",
    "\n",
    "df\\\n",
    ".select(df.work_contract_type, df.cnae_cno, df.cnae_cno_id, df.company_cnae_id)\\\n",
    ".filter(df.work_contract_type == '2').show(5, False)"
   ]
  },
  {
   "cell_type": "markdown",
   "metadata": {},
   "source": [
    "### Codigo destino - subdestino\n"
   ]
  },
  {
   "cell_type": "code",
   "execution_count": null,
   "metadata": {},
   "outputs": [],
   "source": [
    "# Creación de la variable /* Codigo destino - subdestino */\n",
    "\n",
    "df=df\\\n",
    ".withColumn('Destino_subdestino', f.when((f.col('ppty_dest_id')==0) | (f.col('ppty_subdest_id')==0), \"\")\\\n",
    "          .otherwise(f.concat(f.col('ppty_dest_id').cast(\"string\"), f.lit(\"/\"),(f.col('ppty_subdest_id').cast(\"string\")))))"
   ]
  },
  {
   "cell_type": "code",
   "execution_count": null,
   "metadata": {},
   "outputs": [],
   "source": [
    "# Comprobación de la variable /* Codigo destino - subdestino */\n",
    "\n",
    "df\\\n",
    ".select(df.ppty_dest_id, df.ppty_subdest_id,df.Destino_subdestino)\\\n",
    ".filter(\"ppty_dest_id == 900\")\\\n",
    ".show(5, False)"
   ]
  },
  {
   "cell_type": "markdown",
   "metadata": {},
   "source": [
    "### Ratio financiacion "
   ]
  },
  {
   "cell_type": "code",
   "execution_count": null,
   "metadata": {},
   "outputs": [],
   "source": [
    "# Creación de la variable /* Codigo destino - subdestino */\n",
    "\n",
    "df=df\\\n",
    ".withColumn('ratio_financiacion', f.when((f.col('ppal_good_finance_amount')==0), '')\\\n",
    "           .otherwise(f.col('risk_financed_amount')/f.col('ppal_good_finance_amount')))"
   ]
  },
  {
   "cell_type": "code",
   "execution_count": null,
   "metadata": {},
   "outputs": [],
   "source": [
    "# Comprobración de la variable /* Codigo destino - subdestino */\n",
    "\n",
    "df\\\n",
    ".select(\"ppal_good_finance_amount\",\"risk_financed_amount\",\"ratio_financiacion\")\\\n",
    ".filter(\"ppal_good_finance_amount <> 0\").show(20, False)"
   ]
  },
  {
   "cell_type": "markdown",
   "metadata": {},
   "source": [
    "### Ratio financiacion - Propuesta negocio"
   ]
  },
  {
   "cell_type": "code",
   "execution_count": null,
   "metadata": {},
   "outputs": [],
   "source": [
    "# Creación de la variable /* Ratio financiacion - Propuesta negocio*/\n",
    "\n",
    "df=df\\\n",
    ".withColumn('ratio_financiacion_2', f.when((f.col('ppal_good_finance_amount')==0), '')\\\n",
    "           .otherwise(f.col('prop_lim_operation_amount')/f.col('ppal_good_finance_amount')))"
   ]
  },
  {
   "cell_type": "code",
   "execution_count": null,
   "metadata": {},
   "outputs": [],
   "source": [
    "# Comprobación de la variable /* Ratio financiacion - Propuesta negocio*/\n",
    "\n",
    "df\\\n",
    ".select(\"ppal_good_finance_amount\", \"prop_lim_operation_amount\", \"ratio_financiacion_2\")\\\n",
    ".filter('ppal_good_finance_amount == 0').show(5, False)"
   ]
  },
  {
   "cell_type": "markdown",
   "metadata": {},
   "source": [
    "### Ratio importe financiado / plazo"
   ]
  },
  {
   "cell_type": "code",
   "execution_count": null,
   "metadata": {},
   "outputs": [],
   "source": [
    "# Creación de la variable /* Ratio importe financiado / plazo */\n",
    "\n",
    "df=df\\\n",
    ".withColumn('ratio_imp_fin_plazo', f.when((f.col('operation_term_month_number')==0), '')\\\n",
    "           .otherwise(f.col('risk_financed_amount')/f.col('operation_term_month_number')))"
   ]
  },
  {
   "cell_type": "code",
   "execution_count": null,
   "metadata": {},
   "outputs": [],
   "source": [
    "# Comprobación de la variable /* Ratio financiacion - Propuesta negocio*/\n",
    "\n",
    "df\\\n",
    ".select(\"risk_financed_amount\", \"operation_term_month_number\", \"ratio_imp_fin_plazo\")\\\n",
    ".filter('operation_term_month_number <> 0').show(5, False)"
   ]
  },
  {
   "cell_type": "markdown",
   "metadata": {},
   "source": [
    "### Indicador del plazo -  Agrupacion consensuada con negocio de la variable plazo_operacion_meses"
   ]
  },
  {
   "cell_type": "code",
   "execution_count": null,
   "metadata": {},
   "outputs": [],
   "source": [
    "# Creación variable ### /* Indicador del plazo -  Agrupacion consensuada con negocio de la variable plazo_operacion_meses */\n",
    "\n",
    "df=df\\\n",
    ".withColumn('ind_plazo', f.when((f.col('operation_term_month_number').isNull()), '')\\\n",
    "    .when((f.col('operation_term_month_number')<'24'), '1. Plazo < 24')\\\n",
    "    .when((f.col('operation_term_month_number')>='24') & (f.col('operation_term_month_number')<'36'), '2. 24 <= Plazo < 36')\\\n",
    "    .when((f.col('operation_term_month_number')>='36') & (f.col('operation_term_month_number')<'60'), '3. 36 <= Plazo < 60')\\\n",
    "    .when((f.col('operation_term_month_number')>='60') & (f.col('operation_term_month_number')<'72'), '4. 60 <= Plazo < 72')\\\n",
    "    .when((f.col('operation_term_month_number')>='72') & (f.col('operation_term_month_number')<'84'), '5. 72 <= Plazo < 84')\\\n",
    "    .otherwise('6. Plazo >= 84'))"
   ]
  },
  {
   "cell_type": "code",
   "execution_count": null,
   "metadata": {},
   "outputs": [],
   "source": [
    "# Comprobración variable ### /* Indicador del plazo -  Agrupacion consensuada con negocio de la variable plazo_operacion_meses */ \n",
    "\n",
    "df\\\n",
    ".select(\"operation_term_month_number\", \"ind_plazo\")\\\n",
    ".filter(df.operation_term_month_number=='83').show(20, False)"
   ]
  },
  {
   "cell_type": "markdown",
   "metadata": {},
   "source": [
    "### Ind plazo 2"
   ]
  },
  {
   "cell_type": "code",
   "execution_count": null,
   "metadata": {},
   "outputs": [],
   "source": [
    "# Creación variable ### /* Ind plazo 2 */\n",
    "\n",
    "df=df\\\n",
    ".withColumn('ind_plazo2', f.when((f.col('ind_plazo')==''), '')\\\n",
    "    .when((f.col('operation_term_month_number')<='24'), 'CP')\\\n",
    "    .when((f.col('operation_term_month_number')>'24') & (f.col('operation_term_month_number')<='72'), 'MP')\\\n",
    "    .otherwise('LP'))"
   ]
  },
  {
   "cell_type": "code",
   "execution_count": null,
   "metadata": {},
   "outputs": [],
   "source": [
    "# Comprobración variable ### /* Ind plazo 2 */\n",
    "\n",
    "df\\\n",
    ".select(\"operation_term_month_number\", \"ind_plazo2\")\\\n",
    ".filter(df.operation_term_month_number > '72').show(20, False)"
   ]
  },
  {
   "cell_type": "markdown",
   "metadata": {},
   "source": [
    "### Ind plazo 3"
   ]
  },
  {
   "cell_type": "code",
   "execution_count": null,
   "metadata": {},
   "outputs": [],
   "source": [
    "# Creación variable ### /* Ind plazo 3 */\n",
    "\n",
    "df=df\\\n",
    ".withColumn('ind_plazo3', f.when((f.col('ind_plazo')==''), '')\\\n",
    "    .when((f.col('operation_term_month_number')<'36'), 'CP')\\\n",
    "    .when((f.col('operation_term_month_number')>='36') & (f.col('operation_term_month_number')<'72'), 'MP')\\\n",
    "    .otherwise('LP'))"
   ]
  },
  {
   "cell_type": "code",
   "execution_count": null,
   "metadata": {},
   "outputs": [],
   "source": [
    "# Comprobración variable /* Ind plazo 3 */\n",
    "\n",
    "df\\\n",
    ".select(\"operation_term_month_number\", \"ind_plazo3\")\\\n",
    ".filter(df.operation_term_month_number == '72').show(20, False)"
   ]
  },
  {
   "cell_type": "markdown",
   "metadata": {},
   "source": [
    "### Indicador de importe financiado - Agrupacion obtenida del EM autogrouping de la variable importe financiado "
   ]
  },
  {
   "cell_type": "code",
   "execution_count": null,
   "metadata": {},
   "outputs": [],
   "source": [
    "# Creación variable /* Indicador de importe financiado -\n",
    "\n",
    "df=df\\\n",
    ".withColumn('ind_importe_finan', f.when((f.col('risk_financed_amount').isNull()), '')\\\n",
    "    .when((f.col('risk_financed_amount') < 11536), '1')\\\n",
    "    .when((f.col('risk_financed_amount') >= 11536) & (f.col('risk_financed_amount') <= 18095.93), '2')\\\n",
    "    .when((f.col('risk_financed_amount') >= 18095.83), '3')\n",
    "    .otherwise(''))"
   ]
  },
  {
   "cell_type": "code",
   "execution_count": null,
   "metadata": {},
   "outputs": [],
   "source": [
    "# Comprobración variable /* Indicador de importe financiado -\n",
    "\n",
    "df\\\n",
    ".select(\"risk_financed_amount\", \"ind_importe_finan\")\\\n",
    "    .filter(df.risk_financed_amount > 11536).show(20, False)"
   ]
  },
  {
   "cell_type": "markdown",
   "metadata": {},
   "source": [
    "### Combinacion importe financiado - Nuevo usado"
   ]
  },
  {
   "cell_type": "code",
   "execution_count": null,
   "metadata": {},
   "outputs": [],
   "source": [
    "# Creación variable /* Combinacion importe financiado - Nuevo usado */\n",
    "\n",
    "df=df\\\n",
    ".withColumn('imp_finan_nuevousado', f.when((f.col('ind_importe_finan') == '') | (f.col('new_second_hand_type') == ''), '')\\\n",
    "    .otherwise(f.concat(f.col('ind_importe_finan').cast(\"string\"), f.lit(\"/\"),(f.col('new_second_hand_type').cast(\"string\")))))"
   ]
  },
  {
   "cell_type": "code",
   "execution_count": null,
   "metadata": {},
   "outputs": [],
   "source": [
    "# Comprobración variable /* Combinacion importe financiado - Nuevo usado */\n",
    "\n",
    "df\\\n",
    ".select(\"ind_importe_finan\", \"new_second_hand_type\", \"imp_finan_nuevousado\")\\\n",
    "    .show(20, False)"
   ]
  },
  {
   "cell_type": "markdown",
   "metadata": {},
   "source": [
    "### Indicador edad - Agrupacion consensuada con negocio de la variable edad"
   ]
  },
  {
   "cell_type": "code",
   "execution_count": null,
   "metadata": {},
   "outputs": [],
   "source": [
    "# Creación variable format ind_edad $20.;\n",
    "\n",
    "df=df\\\n",
    ".withColumn('ind_edad', f.when((f.col('age_number').isNull()), 'MISSING')\\\n",
    "    .when((f.col('age_number')<'31'), '1. Edad < 31')\\\n",
    "    .when((f.col('age_number')>='31') & (f.col('age_number')<'36'), '2. 31 <= Edad < 36')\\\n",
    "    .when((f.col('age_number')>='36') & (f.col('age_number')<'42'), '3. 36 <= Edad < 42')\\\n",
    "    .when((f.col('age_number')>='42') & (f.col('age_number')<'45'), '4. 42 <= Edad < 45')\\\n",
    "    .when((f.col('age_number')>='45') & (f.col('age_number')<'50'), '5. 45 <= Edad < 50')\\\n",
    "    .otherwise('6. Edad >= 50'))"
   ]
  },
  {
   "cell_type": "code",
   "execution_count": null,
   "metadata": {},
   "outputs": [],
   "source": [
    "# Comprobación de la condición format ind_edad $20.;\n",
    "\n",
    "df\\\n",
    ".select(\"age_number\", \"ind_edad\")\\\n",
    ".filter(df.age_number == '44').show(20, False)"
   ]
  },
  {
   "cell_type": "code",
   "execution_count": null,
   "metadata": {},
   "outputs": [],
   "source": [
    "# Creación variable format ind_edad2 $20.;\n",
    "\n",
    "df=df\\\n",
    ".withColumn('ind_edad2', f.when((f.col('age_number').isNull()), 'MISSING')\\\n",
    "    .when((f.col('age_number')<'42'), '1. Edad < 42')\\\n",
    "    .otherwise('2. Edad >= 42'))"
   ]
  },
  {
   "cell_type": "code",
   "execution_count": null,
   "metadata": {},
   "outputs": [],
   "source": [
    "# Comprobación de la condición format ind_edad_2 $20.;\n",
    "\n",
    "df\\\n",
    ".select(\"age_number\", \"ind_edad2\")\\\n",
    ".filter(df.age_number == '72').show(20, False)"
   ]
  },
  {
   "cell_type": "markdown",
   "metadata": {},
   "source": [
    "### anio_antiguedad_empresa, se corrige la variable antig_en_empresa a partir de la logica proporcionada por negocio"
   ]
  },
  {
   "cell_type": "code",
   "execution_count": null,
   "metadata": {},
   "outputs": [],
   "source": [
    "# Creación variable /* anio_antiguedad_empresa, se corrige la variable antig_en_empresa a partir de la logica proporcionada por negocio */\n",
    "\n",
    "df=df\\\n",
    ".withColumn('antiguedad_empresa',f.when(f.col(\"work_contract_type\").isin(['1','4','9','A','B','C','D','G']),f.col(\"start_act_y_number\"))\\\n",
    "        .otherwise(f.col(\"co_years_month_number\")))"
   ]
  },
  {
   "cell_type": "code",
   "execution_count": null,
   "metadata": {},
   "outputs": [],
   "source": [
    "# Comprobación /* anio_antiguedad_empresa, se corrige la variable antig_en_empresa a partir de la logica proporcionada por negocio */\n",
    "\n",
    "df\\\n",
    ".select(\"work_contract_type\", \"start_act_y_number\", \"co_years_month_number\", \"antiguedad_empresa\")\\\n",
    ".filter(df.work_contract_type == '2').show(20, False)"
   ]
  },
  {
   "cell_type": "code",
   "execution_count": null,
   "metadata": {},
   "outputs": [],
   "source": [
    "# Creación variable anio_antiguedad_empresa\n",
    "\n",
    "df=df\\\n",
    ".withColumn('anio_antiguedad_empresa',f.when(~(f.col(\"work_contract_type\").isin(['1','4','9','A','B','C','D','G'])) & ((f.col(\"antiguedad_empresa\") == 0) | (f.col(\"antiguedad_empresa\") < 1950) | (f.col(\"antiguedad_empresa\") > 2017)),-9999)\\\n",
    "    .when((f.col(\"work_contract_type\").isin(['1','4','9','A','B','C','D','G'])) & ((f.col(\"start_act_y_number\") < 1950) | (f.col(\"start_act_y_number\")>2017)),-9999)\\\n",
    "    .when((f.col(\"work_contract_type\").isin(['1','4','9','A','B','C','D','G'])) & (f.col(\"start_act_y_number\").isin([0,-9999])),-9999)\\\n",
    "        .otherwise(f.year('request_date')-f.col('antiguedad_empresa'))) "
   ]
  },
  {
   "cell_type": "code",
   "execution_count": null,
   "metadata": {},
   "outputs": [],
   "source": [
    "# Comprobación variable anio_antiguedad_empresa\n",
    "\n",
    "df\\\n",
    ".select(\"work_contract_type\", \"antiguedad_empresa\", \"request_date\", \"anio_antiguedad_empresa\")\\\n",
    ".filter((df.work_contract_type == '2') & (df.antiguedad_empresa == 2018))\\\n",
    ".show(5, False)"
   ]
  },
  {
   "cell_type": "markdown",
   "metadata": {},
   "source": [
    "### Indicador antigüedad en la empresa -  Consensuada con negocio"
   ]
  },
  {
   "cell_type": "code",
   "execution_count": null,
   "metadata": {},
   "outputs": [],
   "source": [
    "# Creación variable /* Indicador antigüedad en la empresa - Consensuada con negocio */\n",
    "\n",
    "df=df\\\n",
    ".withColumn('ind_ant_empresa',f.when(f.col(\"anio_antiguedad_empresa\").isin(['',-9999]),'')\\\n",
    "    .when((f.col(\"anio_antiguedad_empresa\") >= 0) & (f.col(\"anio_antiguedad_empresa\") < 3),'1. 0 <= Antig_en_empresa < 3')\\\n",
    "    .when((f.col(\"anio_antiguedad_empresa\") >= 3) & (f.col(\"anio_antiguedad_empresa\") < 6),'2. 3 <= Antig_en_empresa < 6')\\\n",
    "    .when((f.col(\"anio_antiguedad_empresa\") >= 6) & (f.col(\"anio_antiguedad_empresa\") < 11),'3. 6 <= Antig_en_empresa < 11')\\\n",
    "    .when((f.col(\"anio_antiguedad_empresa\") >= 11) & (f.col(\"anio_antiguedad_empresa\") < 22),'4. 11 <= Antig_en_empresa < 22')\\\n",
    "        .otherwise('5. Antig_en_empresa >= 22'))  "
   ]
  },
  {
   "cell_type": "code",
   "execution_count": null,
   "metadata": {},
   "outputs": [],
   "source": [
    "# Comprobación variable /* Indicador antigüedad en la empresa - Consensuada con negocio */\n",
    "\n",
    "df\\\n",
    ".select(\"anio_antiguedad_empresa\", \"ind_ant_empresa\")\\\n",
    ".filter((df.anio_antiguedad_empresa)==0)\\\n",
    ".show(5, False)"
   ]
  },
  {
   "cell_type": "markdown",
   "metadata": {},
   "source": [
    "### Genero el ind_ant_empresa 2 para agrupar mas la antigüedad en la empresa"
   ]
  },
  {
   "cell_type": "code",
   "execution_count": null,
   "metadata": {},
   "outputs": [],
   "source": [
    "# Creación variable /* Genero el ind_ant_empresa 2 para agrupar mas la antigüedad en la empresa */\n",
    "\n",
    "df=df\\\n",
    ".withColumn('ind_ant_empresa2',f.when(f.col(\"ind_ant_empresa\") == '', '')\\\n",
    "    .when((f.col(\"anio_antiguedad_empresa\") >= 0) & (f.col(\"anio_antiguedad_empresa\") < 3),'1. < 3 años')\\\n",
    "    .when((f.col(\"anio_antiguedad_empresa\") >= 3) & (f.col(\"anio_antiguedad_empresa\") < 11),'2. de 3 a 11 años')\\\n",
    "    .otherwise('3. más de 11 años'))"
   ]
  },
  {
   "cell_type": "code",
   "execution_count": null,
   "metadata": {},
   "outputs": [],
   "source": [
    "# Comprobación variable /* Genero el ind_ant_empresa 2 para agrupar mas la antigüedad en la empresa */\n",
    "\n",
    "df\\\n",
    ".select(\"anio_antiguedad_empresa\", \"ind_ant_empresa2\")\\\n",
    ".filter((df.anio_antiguedad_empresa == '22'))\\\n",
    ".show(5, False)"
   ]
  },
  {
   "cell_type": "markdown",
   "metadata": {},
   "source": [
    "### Genero el agrupado de tipo de contrato"
   ]
  },
  {
   "cell_type": "code",
   "execution_count": null,
   "metadata": {},
   "outputs": [],
   "source": [
    "# Creación de variable /* Genero el agrupado de tipo de contrato */\n",
    "\n",
    "df=df\\\n",
    ".withColumn('ind_tipo_contrato', f.when((f.col('work_contract_type').isin(['G','E','4','5','7','A','C'])),'SIN_INGRESOS/TEMPORERO')\\\n",
    "            .when((f.col('work_contract_type').isin(['9'])),'PENSIONISTA')\\\n",
    "            .when((f.col('work_contract_type').isin(['2'])),'FIJO')\\\n",
    "            .when((f.col('work_contract_type').isin(['1'])),'AUTONOMO')\\\n",
    "            .when((f.col('work_contract_type').isin(['3'])),'TEMPORAL')\\\n",
    "            .when((f.col('work_contract_type').isin(['6','B','D'])),'FUNCIONARIO/RENTISTA')\n",
    "            .otherwise(''))"
   ]
  },
  {
   "cell_type": "code",
   "execution_count": null,
   "metadata": {},
   "outputs": [],
   "source": [
    "# Comprobración varible /* Genero el agrupado de tipo de contrato */\n",
    "\n",
    "df\\\n",
    ".select(df.work_contract_type, df.ind_tipo_contrato)\\\n",
    ".filter(df.work_contract_type == '6').show(5, False)"
   ]
  },
  {
   "cell_type": "markdown",
   "metadata": {},
   "source": [
    "### Combinacion antigüedad en la empresa y tipo de contrato"
   ]
  },
  {
   "cell_type": "code",
   "execution_count": null,
   "metadata": {},
   "outputs": [],
   "source": [
    "# Creación de variable /* Combinacion antigüedad en la empresa y tipo de contrato */\n",
    "\n",
    "df=df\\\n",
    ".withColumn('ant_empresa_tip_trabajo', f.when((f.col('ind_ant_empresa') == '') | (f.col('work_contract_type') == ''),'')\\\n",
    "    .otherwise(f.concat(f.col('ind_ant_empresa').cast(\"string\"), f.lit(\"/\"),(f.col('work_contract_type').cast(\"string\")))))"
   ]
  },
  {
   "cell_type": "code",
   "execution_count": null,
   "metadata": {},
   "outputs": [],
   "source": [
    "# Comprobación de variable /* Combinacion antigüedad en la empresa y tipo de contrato */\n",
    "\n",
    "df\\\n",
    ".select(df.ind_ant_empresa, df.work_contract_type, df.ant_empresa_tip_trabajo)\\\n",
    ".show(5, False)"
   ]
  },
  {
   "cell_type": "markdown",
   "metadata": {},
   "source": [
    "### Combinacion antigüedad en la empresa y tipo de contrato  version 2"
   ]
  },
  {
   "cell_type": "code",
   "execution_count": null,
   "metadata": {},
   "outputs": [],
   "source": [
    "# Creación de variable /* Combinacion antigüedad en la empresa y tipo de contrato version 2*/\n",
    "\n",
    "df=df\\\n",
    ".withColumn('ant_empresa_tip_trabajo2', f.when((f.col('ind_ant_empresa2') == '') | (f.col('ind_tipo_contrato') == ''),'')\\\n",
    "    .otherwise(f.concat(f.col('ind_ant_empresa2').cast(\"string\"), f.lit(\"/\"),(f.col('ind_tipo_contrato').cast(\"string\")))))"
   ]
  },
  {
   "cell_type": "code",
   "execution_count": null,
   "metadata": {},
   "outputs": [],
   "source": [
    "# Comprobación de variable /* Combinacion antigüedad en la empresa y tipo de contrato version 2*/\n",
    "\n",
    "df\\\n",
    ".select(df.ind_ant_empresa2, df.ind_tipo_contrato, df.ant_empresa_tip_trabajo2)\\\n",
    ".show(5, False)"
   ]
  },
  {
   "cell_type": "markdown",
   "metadata": {},
   "source": [
    "### Combinacion ind edad y ind antiguedad en la empresa"
   ]
  },
  {
   "cell_type": "code",
   "execution_count": null,
   "metadata": {},
   "outputs": [],
   "source": [
    "# Creación de variable /* Combinacion ind edad y ind antiguedad en la empresa */\n",
    "\n",
    "df=df\\\n",
    ".withColumn('edad_ant_empresa', f.when((f.col('ind_edad') == '') | (f.col('ind_ant_empresa') == ''),'')\\\n",
    "    .otherwise(f.concat(f.col('ind_edad').cast(\"string\"), f.lit(\"/\"),(f.col('ind_ant_empresa').cast(\"string\")))))"
   ]
  },
  {
   "cell_type": "code",
   "execution_count": null,
   "metadata": {},
   "outputs": [],
   "source": [
    "# Comprobación de variable /* Combinacion ind edad y ind antiguedad en la empresa */\n",
    "\n",
    "df\\\n",
    ".select(df.ind_edad, df.ind_ant_empresa, df.edad_ant_empresa)\\\n",
    ".show(5, False)"
   ]
  },
  {
   "cell_type": "markdown",
   "metadata": {},
   "source": [
    "### Combinacion ind edad y ind antiguedad en la empresa version 2"
   ]
  },
  {
   "cell_type": "code",
   "execution_count": null,
   "metadata": {},
   "outputs": [],
   "source": [
    "# Creación de variable /* Combinacion ind edad y ind antiguedad en la empresa version 2*/\n",
    "\n",
    "df=df\\\n",
    ".withColumn('edad_ant_empresa2', f.when((f.col('ind_edad') == '') | (f.col('ind_ant_empresa2') == ''),'')\\\n",
    "    .otherwise(f.concat(f.col('ind_edad').cast(\"string\"), f.lit(\"/\"),(f.col('ind_ant_empresa2').cast(\"string\")))))"
   ]
  },
  {
   "cell_type": "code",
   "execution_count": null,
   "metadata": {},
   "outputs": [],
   "source": [
    "# Comprobación de variable /* Combinacion ind edad y ind antiguedad en la empresa version 2*/\n",
    "\n",
    "df\\\n",
    ".select(df.ind_edad, df.ind_ant_empresa2, df.edad_ant_empresa2)\\\n",
    ".filter((df.ind_edad == '') | (df.ind_ant_empresa2 == '')).show(5, False)"
   ]
  },
  {
   "cell_type": "markdown",
   "metadata": {},
   "source": [
    "### Combinacion ind edad y ind antiguedad en la empresa version 3"
   ]
  },
  {
   "cell_type": "code",
   "execution_count": null,
   "metadata": {},
   "outputs": [],
   "source": [
    "# Creación de variable /* Combinacion ind edad y ind antiguedad en la empresa version 3*/\n",
    "\n",
    "df=df\\\n",
    ".withColumn('edad_ant_empresa3', f.when((f.col('ind_edad2') == '') | (f.col('ind_ant_empresa2') == ''),'')\\\n",
    "    .otherwise(f.concat(f.col('ind_edad2').cast(\"string\"), f.lit(\"/\"),(f.col('ind_ant_empresa2').cast(\"string\")))))"
   ]
  },
  {
   "cell_type": "code",
   "execution_count": null,
   "metadata": {},
   "outputs": [],
   "source": [
    "# Comprobación de variable /* Combinacion ind edad y ind antiguedad en la empresa version 3*/\n",
    "\n",
    "df\\\n",
    ".select(df.ind_edad2, df.ind_ant_empresa2, df.edad_ant_empresa3)\\\n",
    ".show(5, False)"
   ]
  },
  {
   "cell_type": "markdown",
   "metadata": {},
   "source": [
    "### Estado civil / residencia habitual"
   ]
  },
  {
   "cell_type": "code",
   "execution_count": null,
   "metadata": {},
   "outputs": [],
   "source": [
    "# Creación de la variable /* Estado civil / residencia habitual */\n",
    "\n",
    "df=df\\\n",
    ".withColumn('Estaciv_reside', f.when((f.col('civil_status_type')==\"\") | (f.col('usual_residence_id').isNull()),'')\\\n",
    "           .otherwise(f.concat(f.col('civil_status_type').cast(\"string\"), f.lit(\"/\"),(f.col('usual_residence_id').cast(\"string\")))))"
   ]
  },
  {
   "cell_type": "code",
   "execution_count": null,
   "metadata": {},
   "outputs": [],
   "source": [
    "# Comprobración varible /* Estado civil / residencia habitual */\n",
    "\n",
    "df\\\n",
    ".select(df.civil_status_type, df.usual_residence_id, df.Estaciv_reside)\\\n",
    ".show(5, False)"
   ]
  },
  {
   "cell_type": "markdown",
   "metadata": {},
   "source": [
    "### Agrupado estado_civil "
   ]
  },
  {
   "cell_type": "code",
   "execution_count": null,
   "metadata": {},
   "outputs": [],
   "source": [
    "# Creación de variable /* Agrupado estado_civil */\n",
    "\n",
    "df=df\\\n",
    ".withColumn('ag_estado_civil', f.when((f.col('civil_status_type')==''),'')\\\n",
    "            .when((f.col('civil_status_type')=='S'),'Soltero')\\\n",
    "            .when((f.col('civil_status_type').isin(['H','V','D','P'])),'SH-Viu-Dv-SJ')\\\n",
    "            .when((f.col('civil_status_type').isin(['C','N'])),'AM-Casado')\\\n",
    "            .otherwise('civil_status_type'))"
   ]
  },
  {
   "cell_type": "code",
   "execution_count": null,
   "metadata": {},
   "outputs": [],
   "source": [
    "# Comprobración varible /* Agrupado estado_civil */\n",
    "\n",
    "df\\\n",
    ".select(df.civil_status_type, df.ag_estado_civil)\\\n",
    ".filter(df.civil_status_type =='C').show(5, False)"
   ]
  },
  {
   "cell_type": "markdown",
   "metadata": {},
   "source": [
    "### Agrupado residencia habitual"
   ]
  },
  {
   "cell_type": "code",
   "execution_count": null,
   "metadata": {},
   "outputs": [],
   "source": [
    "# Creación de variable /* Agrupado residencia habitual */\n",
    "\n",
    "df=df\\\n",
    ".withColumn('ag_reshabitual', f.when((f.col('usual_residence_id').isNull()),'')\\\n",
    "            .when((f.col('usual_residence_id').isin(['6','3'])),'PADRES_ARREN')\\\n",
    "            .when((f.col('usual_residence_id').isin(['4','5','7'])),'USU_OTROS_CONY')\\\n",
    "            .when((f.col('usual_residence_id').isin(['1','2'])),'LEAS_PROPIEDAD')\\\n",
    "            .otherwise('usual_residence_id'))"
   ]
  },
  {
   "cell_type": "code",
   "execution_count": null,
   "metadata": {},
   "outputs": [],
   "source": [
    "# Comprobración varible /* Agrupado residencia habitual */\n",
    "\n",
    "df\\\n",
    ".select(df.usual_residence_id, df.ag_reshabitual)\\\n",
    ".filter(df.usual_residence_id =='6').show(5, False)"
   ]
  },
  {
   "cell_type": "markdown",
   "metadata": {},
   "source": [
    "### Estado civil / residencia habitual version 2"
   ]
  },
  {
   "cell_type": "code",
   "execution_count": null,
   "metadata": {},
   "outputs": [],
   "source": [
    "# Creación variable /* Estado civil / residencia habitual version 2*/\n",
    "\n",
    "df=df\\\n",
    ".withColumn('Estaciv_reside2', f.when((f.col('ag_estado_civil')=='') | (f.col('ag_reshabitual')==''), '')\\\n",
    "    .otherwise(f.concat(f.col('ag_estado_civil').cast(\"string\"), f.lit(\"/\"),(f.col('ag_reshabitual').cast(\"string\")))))"
   ]
  },
  {
   "cell_type": "code",
   "execution_count": null,
   "metadata": {},
   "outputs": [],
   "source": [
    "# Creación variable /* Estado civil / residencia habitual version 2*/\n",
    "\n",
    "df\\\n",
    ".select(df.ag_estado_civil, df.ag_reshabitual, df.Estaciv_reside2)\\\n",
    ".show(5, False)"
   ]
  },
  {
   "cell_type": "markdown",
   "metadata": {},
   "source": [
    "### Combinacion edad residencia habitual"
   ]
  },
  {
   "cell_type": "code",
   "execution_count": null,
   "metadata": {},
   "outputs": [],
   "source": [
    "# Creación variable /* Combinacion edad residencia habitual */\n",
    "\n",
    "df=df\\\n",
    ".withColumn('edad_res_habitual',(f.concat(f.col('ind_edad').cast(\"string\"), f.lit(\"/\"),(f.col('ag_reshabitual').cast(\"string\")))))"
   ]
  },
  {
   "cell_type": "code",
   "execution_count": null,
   "metadata": {},
   "outputs": [],
   "source": [
    "# Comprobación variable /* Estado civil / residencia habitual version 2*/\n",
    "\n",
    "df\\\n",
    ".select(df.ind_edad, df.ag_reshabitual, df.edad_res_habitual)\\\n",
    ".show(5, False)"
   ]
  },
  {
   "cell_type": "markdown",
   "metadata": {},
   "source": [
    "### Combinacion edad residencia habitual version 2 "
   ]
  },
  {
   "cell_type": "code",
   "execution_count": null,
   "metadata": {},
   "outputs": [],
   "source": [
    "# Creación variable /* Combinacion edad residencia habitual version 2 */\n",
    "\n",
    "df=df\\\n",
    ".withColumn('edad_res_habitual2',(f.concat(f.col('ind_edad2').cast(\"string\"), f.lit(\"/\"),(f.col('ag_reshabitual').cast(\"string\")))))"
   ]
  },
  {
   "cell_type": "code",
   "execution_count": null,
   "metadata": {},
   "outputs": [],
   "source": [
    "# Creación variable /* Combinacion edad residencia habitual version 2 */\n",
    "\n",
    "df\\\n",
    ".select(df.ind_edad2, df.ag_reshabitual, df.edad_res_habitual2)\\\n",
    ".show(5, False)"
   ]
  },
  {
   "cell_type": "markdown",
   "metadata": {},
   "source": [
    "### Total ingresos"
   ]
  },
  {
   "cell_type": "code",
   "execution_count": null,
   "metadata": {},
   "outputs": [],
   "source": [
    "# Creación de la variable /* Total ingresos */\n",
    "\n",
    "df=df\\\n",
    ".withColumn('Total_ingresos',(f.col(\"fix_income_amount\"))+(f.col(\"dem_var_inc_amount\")))"
   ]
  },
  {
   "cell_type": "code",
   "execution_count": null,
   "metadata": {},
   "outputs": [],
   "source": [
    "# Comprobación de la variable /* Total ingresos */\n",
    "\n",
    "df\\\n",
    ".select(df.fix_income_amount, df.dem_var_inc_amount, df.Total_ingresos)\\\n",
    ".show(5, False)"
   ]
  },
  {
   "cell_type": "markdown",
   "metadata": {},
   "source": [
    "### Ratio ingresos / cuota"
   ]
  },
  {
   "cell_type": "code",
   "execution_count": null,
   "metadata": {},
   "outputs": [],
   "source": [
    "# Creación de la variable /* Ratio ingresos / cuota */\n",
    "\n",
    "df=df\\\n",
    ".withColumn('Ratio_Ingresos_cuota',f.when((f.col(\"risk_fee_amount\")=='0'),'0')\n",
    "        .otherwise(f.col(\"Total_ingresos\")/f.col(\"risk_fee_amount\")))"
   ]
  },
  {
   "cell_type": "code",
   "execution_count": null,
   "metadata": {},
   "outputs": [],
   "source": [
    "# Comprobación de la variable /* Ratio ingresos / cuota */\n",
    "\n",
    "df\\\n",
    ".select(df.risk_fee_amount, df.Total_ingresos, df.Ratio_Ingresos_cuota)\\\n",
    ".filter(df.risk_fee_amount != '0').show(5, False)"
   ]
  },
  {
   "cell_type": "markdown",
   "metadata": {},
   "source": [
    "### Ratio disponible dispuesto"
   ]
  },
  {
   "cell_type": "code",
   "execution_count": null,
   "metadata": {},
   "outputs": [],
   "source": [
    "# Creación de la variable * Ratio disponible dispuesto *;\n",
    "\n",
    "df=df\\\n",
    ".withColumn('Ratio_disponible_dispuesto', f.col('prop_lim_operation_amount')/f.col('risk_financed_amount'))"
   ]
  },
  {
   "cell_type": "code",
   "execution_count": null,
   "metadata": {},
   "outputs": [],
   "source": [
    "# Comprobación de la variable * Ratio disponible dispuesto *;\n",
    "\n",
    "df\\\n",
    ".select(df.prop_lim_operation_amount, df.risk_financed_amount, df.Ratio_disponible_dispuesto)\\\n",
    ".show(5, False)"
   ]
  },
  {
   "cell_type": "markdown",
   "metadata": {},
   "source": [
    "### Ratio deuda prestamo respecto total prestado"
   ]
  },
  {
   "cell_type": "code",
   "execution_count": null,
   "metadata": {},
   "outputs": [],
   "source": [
    "# Creación de la variable * Ratio deuda prestamo respecto total prestado *;\n",
    "\n",
    "df=df\\\n",
    ".withColumn('Ratio_prestamo_riesgo', f.col('risk_financed_amount')/(f.col('loan_lv_rk_amount')+f.col('risk_financed_amount')))"
   ]
  },
  {
   "cell_type": "code",
   "execution_count": null,
   "metadata": {},
   "outputs": [],
   "source": [
    "# Comprobación de la variable * Ratio deuda prestamo respecto total prestado *;\n",
    "\n",
    "df\\\n",
    ".select(df.risk_financed_amount, df.loan_lv_rk_amount, df.Ratio_prestamo_riesgo)\\\n",
    ".show(5, False)"
   ]
  },
  {
   "cell_type": "markdown",
   "metadata": {},
   "source": [
    "### Cuota BBVA"
   ]
  },
  {
   "cell_type": "code",
   "execution_count": null,
   "metadata": {},
   "outputs": [],
   "source": [
    "# Creación de la variable * Cuota BBVA *;\n",
    "\n",
    "df=df\\\n",
    ".withColumn('Cuota_bbva', ((f.col('risk_financed_amount')+f.col('loan_lv_rk_amount'))/f.col('operation_term_month_number')))"
   ]
  },
  {
   "cell_type": "code",
   "execution_count": null,
   "metadata": {},
   "outputs": [],
   "source": [
    "# Comprobación de la variable * Cuota BBVA *;\n",
    "\n",
    "df\\\n",
    ".select(df.risk_financed_amount, df.loan_lv_rk_amount, df.operation_term_month_number, df.Cuota_bbva)\\\n",
    ".show(5, False)"
   ]
  },
  {
   "cell_type": "markdown",
   "metadata": {},
   "source": [
    "### Numero de vueltas"
   ]
  },
  {
   "cell_type": "code",
   "execution_count": null,
   "metadata": {},
   "outputs": [],
   "source": [
    "# Creación de la variable * Numero de vueltas *;\n",
    "\n",
    "df=df\\\n",
    ".withColumn('Numero_de_vueltas',f.when((f.col(\"risk_fee_amount\")=='0'),'0')\n",
    "        .otherwise(f.col(\"Total_ingresos\")/f.col(\"risk_fee_amount\")))"
   ]
  },
  {
   "cell_type": "code",
   "execution_count": null,
   "metadata": {},
   "outputs": [],
   "source": [
    "# Comprobación de la variable * Numero de vueltas *;\n",
    "\n",
    "df\\\n",
    ".select(df.risk_fee_amount, df.Total_ingresos, df.Numero_de_vueltas)\\\n",
    ".filter(df.risk_fee_amount == '0').show(5, False)"
   ]
  },
  {
   "cell_type": "markdown",
   "metadata": {},
   "source": [
    "### Numero de vueltas BBVA"
   ]
  },
  {
   "cell_type": "code",
   "execution_count": null,
   "metadata": {},
   "outputs": [],
   "source": [
    "# Creación de la variable * Numero de vueltas BBVA*;\n",
    "\n",
    "df=df\\\n",
    ".withColumn('Num_vueltas_BBVA',f.when((f.col(\"Cuota_bbva\")=='0'),'0')\n",
    "        .otherwise(f.col(\"Total_ingresos\")/f.col(\"risk_fee_amount\")))"
   ]
  },
  {
   "cell_type": "code",
   "execution_count": null,
   "metadata": {},
   "outputs": [],
   "source": [
    "# Comprobación de la variable * Numero de vueltas BBVA*;\n",
    "\n",
    "df\\\n",
    ".select(df.risk_fee_amount, df.Cuota_bbva, df.Total_ingresos, df.Num_vueltas_BBVA)\\\n",
    ".filter(df.Cuota_bbva == '0').show(5, False)"
   ]
  },
  {
   "cell_type": "markdown",
   "metadata": {},
   "source": [
    "### Tasa de Esfuerzo"
   ]
  },
  {
   "cell_type": "code",
   "execution_count": null,
   "metadata": {},
   "outputs": [],
   "source": [
    "# Creación de la variable * Tasa de Esfuerzo *;\n",
    "\n",
    "df=df\\\n",
    ".withColumn('Tasa_de_esfuerzo',f.when((f.col(\"Total_ingresos\")=='0'),'0')\n",
    "        .otherwise(f.col(\"risk_fee_amount\")/f.col(\"Total_ingresos\")))"
   ]
  },
  {
   "cell_type": "code",
   "execution_count": null,
   "metadata": {},
   "outputs": [],
   "source": [
    "# Comprobación de la variable * Tasa de Esfuerzo *;\n",
    "\n",
    "df\\\n",
    ".select(df.Total_ingresos, df.risk_fee_amount, df.Tasa_de_esfuerzo)\\\n",
    ".filter(df.Total_ingresos != '0').show(5, False)"
   ]
  },
  {
   "cell_type": "markdown",
   "metadata": {},
   "source": [
    "### Indicador esfuerzo - plazo"
   ]
  },
  {
   "cell_type": "code",
   "execution_count": null,
   "metadata": {},
   "outputs": [],
   "source": [
    "# Creación de variable * Indicador esfuerzo - plazo *;\n",
    "\n",
    "df=df\\\n",
    ".withColumn('Ind_esfuerzo_plazo', f.when((f.col('operation_term_month_number')<=48) & (f.col('Tasa_de_esfuerzo')<=0.15),'01. <=48meses y esfuerzo <= 15%')\\\n",
    "            .when((f.col('operation_term_month_number')>48) & (f.col('Tasa_de_esfuerzo')<=0.15),'02. >48meses y esfuerzo <= 15%')\\\n",
    "            .when((f.col('operation_term_month_number')<=48) & (f.col('Tasa_de_esfuerzo')>0.15),'03. <=48meses y esfuerzo > 15%')\\\n",
    "            .when((f.col('operation_term_month_number')>48) & (f.col('Tasa_de_esfuerzo')>0.15),'04. >48meses y esfuerzo > 15%')\\\n",
    "            .otherwise(''))"
   ]
  },
  {
   "cell_type": "code",
   "execution_count": null,
   "metadata": {},
   "outputs": [],
   "source": [
    "# Comprobación de la variable * Indicador esfuerzo - plazo *;\n",
    "\n",
    "df\\\n",
    ".select(df.operation_term_month_number, df.Tasa_de_esfuerzo, df.Ind_esfuerzo_plazo)\\\n",
    ".filter((df.operation_term_month_number <= 48) & (df.operation_term_month_number <= 0.15))\\\n",
    ".show(5, False)"
   ]
  },
  {
   "cell_type": "markdown",
   "metadata": {},
   "source": [
    "### Indicador esfuerzo - plazo version 2"
   ]
  },
  {
   "cell_type": "code",
   "execution_count": null,
   "metadata": {},
   "outputs": [],
   "source": [
    "# Creación de variable * Indicador esfuerzo - plazo version 2 *;\n",
    "\n",
    "df=df\\\n",
    ".withColumn('Ind_esfuerzo_plazo2', f.when((f.col('ind_plazo2')=='CP') & (f.col('Tasa_de_esfuerzo')<=0.15),'01. Corto Plazo y esfuerzo <= 15%')\\\n",
    "            .when((f.col('ind_plazo2')=='CP') & (f.col('Tasa_de_esfuerzo')>0.15),'02. Corto Plazo y esfuerzo > 15%')\\\n",
    "            .when((f.col('ind_plazo2')=='MP') & (f.col('Tasa_de_esfuerzo')<=0.15),'03. Medio Plazo y esfuerzo <= 15%')\\\n",
    "            .when((f.col('ind_plazo2')=='MP') & (f.col('Tasa_de_esfuerzo')>0.15),'04. Medio Plazo y esfuerzo > 15%')\\\n",
    "            .when((f.col('ind_plazo2')=='LP') & (f.col('Tasa_de_esfuerzo')<=0.15),'05. Largo Plazo y esfuerzo <= 15%')\\\n",
    "            .when((f.col('ind_plazo2')=='LP') & (f.col('Tasa_de_esfuerzo')>0.15),'06. Largo Plazo y esfuerzo > 15%')\\\n",
    "            .otherwise(''))"
   ]
  },
  {
   "cell_type": "code",
   "execution_count": null,
   "metadata": {},
   "outputs": [],
   "source": [
    "# Comprobación de la variable * Indicador esfuerzo - plazo version 2 *;\n",
    "\n",
    "df\\\n",
    ".select(df.ind_plazo2, df.Tasa_de_esfuerzo, df.Ind_esfuerzo_plazo2)\\\n",
    ".filter((df.ind_plazo2 == 'CP') & (df.Tasa_de_esfuerzo <= 0.15)).show(5, False)"
   ]
  },
  {
   "cell_type": "markdown",
   "metadata": {},
   "source": [
    "### Estado civil - Regimen matrimonial"
   ]
  },
  {
   "cell_type": "code",
   "execution_count": null,
   "metadata": {},
   "outputs": [],
   "source": [
    "# Creación de la variable /* Estado civil - Regimen matrimonial */\n",
    "\n",
    "df=df\\\n",
    ".withColumn('estadociv_regmat',f.when((f.col(\"civil_status_type\")=='C'), (f.concat(f.col('civil_status_type').cast(\"string\"), f.lit(\"/\"),(f.col('marital_reg_type').cast(\"string\")))))\\\n",
    "        .otherwise(f.concat(f.col('civil_status_type'), f.lit(\"/N\"))))"
   ]
  },
  {
   "cell_type": "code",
   "execution_count": null,
   "metadata": {},
   "outputs": [],
   "source": [
    "# Comprobación de la variable /* Estado civil - Regimen matrimonial */\n",
    "\n",
    "df\\\n",
    ".select(df.civil_status_type, df.marital_reg_type, df.estadociv_regmat)\\\n",
    ".filter(df.civil_status_type != 'C').show(5, False)"
   ]
  },
  {
   "cell_type": "markdown",
   "metadata": {},
   "source": [
    "### Alerta incidencias"
   ]
  },
  {
   "cell_type": "code",
   "execution_count": null,
   "metadata": {},
   "outputs": [],
   "source": [
    "# Creación de la variable /* Alerta incidencias */\n",
    "\n",
    "df=df\\\n",
    ".withColumn('alerta_inc',f.when((f.col(\"asnef_issue_number\") > '0') | (f.col(\"irr_inv_d_number\") > '0'),'1')\n",
    "        .otherwise('0'))"
   ]
  },
  {
   "cell_type": "code",
   "execution_count": null,
   "metadata": {},
   "outputs": [],
   "source": [
    "# Comprobación de la variable /* Estado civil - Regimen matrimonial */\n",
    "\n",
    "df\\\n",
    ".select(df.asnef_issue_number, df.irr_inv_d_number, df.alerta_inc)\\\n",
    ".filter(df.asnef_issue_number == '0').show(5, False)"
   ]
  },
  {
   "cell_type": "markdown",
   "metadata": {},
   "source": [
    "### Plazo en meses - Destino operacion"
   ]
  },
  {
   "cell_type": "code",
   "execution_count": null,
   "metadata": {},
   "outputs": [],
   "source": [
    "# Creación de la variable /* Plazo en meses - Destino operacion */\n",
    "\n",
    "df=df\\\n",
    ".withColumn('plazo_destino', (f.concat(f.col('ind_plazo').cast(\"string\"), f.lit(\"_\"),(f.col('ppty_dest_id').cast(\"string\")))))"
   ]
  },
  {
   "cell_type": "code",
   "execution_count": null,
   "metadata": {},
   "outputs": [],
   "source": [
    "# Creación de la variable /* Plazo en meses - Destino operacion 2*/\n",
    "\n",
    "df=df\\\n",
    ".withColumn('plazo_destino2', (f.concat(f.col('ind_plazo2').cast(\"string\"), f.lit(\"_\"),(f.col('ppty_dest_id').cast(\"string\")))))"
   ]
  },
  {
   "cell_type": "code",
   "execution_count": null,
   "metadata": {},
   "outputs": [],
   "source": [
    "# Creación de la variable /* Plazo en meses - Destino operacion 3*/\n",
    "\n",
    "df=df\\\n",
    ".withColumn('plazo_destino3', (f.concat(f.col('ind_plazo3').cast(\"string\"), f.lit(\"_\"),(f.col('ppty_dest_id').cast(\"string\")))))"
   ]
  },
  {
   "cell_type": "code",
   "execution_count": null,
   "metadata": {},
   "outputs": [],
   "source": [
    "# Comprobación de la variable /* Plazo en meses - Destino operacion */\n",
    "\n",
    "df\\\n",
    ".select(df.ind_plazo, df.ppty_dest_id, df.plazo_destino)\\\n",
    ".show(5, False)"
   ]
  },
  {
   "cell_type": "code",
   "execution_count": null,
   "metadata": {},
   "outputs": [],
   "source": [
    "# Comprobación de la variable /* Plazo en meses - Destino operacion 2*/\n",
    "\n",
    "df\\\n",
    ".select(df.ind_plazo, df.ppty_dest_id, df.plazo_destino2)\\\n",
    ".show(5, False)"
   ]
  },
  {
   "cell_type": "code",
   "execution_count": null,
   "metadata": {},
   "outputs": [],
   "source": [
    "# Comprobación de la variable /* Plazo en meses - Destino operacion 2*/\n",
    "df\\\n",
    ".select(df.ind_plazo, df.ppty_dest_id, df.plazo_destino3)\\\n",
    ".show(5, False)"
   ]
  },
  {
   "cell_type": "markdown",
   "metadata": {},
   "source": [
    "### Se genera la variable comunidad autonoma"
   ]
  },
  {
   "cell_type": "code",
   "execution_count": null,
   "metadata": {},
   "outputs": [],
   "source": [
    "### Creación de la variable CD_PROVINCIA\n",
    "\n",
    "df=df\\\n",
    ".withColumn('CD_PROVINCIA', (f.substring(f.trim(f.col('fisc_resid_prov_id')), 1, 2)))"
   ]
  },
  {
   "cell_type": "code",
   "execution_count": null,
   "metadata": {},
   "outputs": [],
   "source": [
    "### Comprobación resultado de la variable CD_PROVINCIA\n",
    "\n",
    "df\\\n",
    ".select(df.fisc_resid_prov_id, df.CD_PROVINCIA)\\\n",
    ".show(5, False)"
   ]
  },
  {
   "cell_type": "code",
   "execution_count": null,
   "metadata": {},
   "outputs": [],
   "source": [
    "# Creación de variable /* Genero la variable comunidad autonoma */\n",
    "\n",
    "df=df\\\n",
    ".withColumn('COM_AUTONOMA', f.when((f.col('CD_PROVINCIA').isin(['04','18','11','41','29','23','14','21'])),'Andalucia')\\\n",
    "    .when((f.col('CD_PROVINCIA').isin(['50','22','44'])),'Aragon')\\\n",
    "    .when((f.col('CD_PROVINCIA').isin(['33'])),'Asturias')\\\n",
    "    .when((f.col('CD_PROVINCIA').isin(['07'])),'Baleares')\\\n",
    "    .when((f.col('CD_PROVINCIA').isin(['38','35'])),'Canarias')\\\n",
    "    .when((f.col('CD_PROVINCIA').isin(['39'])),'Cantabria')\\\n",
    "    .when((f.col('CD_PROVINCIA').isin(['37','24','40','34','49','09','42','47','05'])),'Castilla_y_Leon')\\\n",
    "    .when((f.col('CD_PROVINCIA').isin(['43','25','08','17'])),'Cataluña')\\\n",
    "    .when((f.col('CD_PROVINCIA').isin(['51'])),'Ceuta')\\\n",
    "    .when((f.col('CD_PROVINCIA').isin(['06','10'])),'Extremadura')\\\n",
    "    .when((f.col('CD_PROVINCIA').isin(['15','36','27','32'])),'Galicia')\\\n",
    "    .when((f.col('CD_PROVINCIA').isin(['45','19','13','16','02'])),'La_Mancha')\\\n",
    "    .when((f.col('CD_PROVINCIA').isin(['26'])),'La Rioja')\\\n",
    "    .when((f.col('CD_PROVINCIA').isin(['28'])),'Madrid')\\\n",
    "    .when((f.col('CD_PROVINCIA').isin(['52'])),'Melilla')\\\n",
    "    .when((f.col('CD_PROVINCIA').isin(['30'])),'Murcia')\\\n",
    "    .when((f.col('CD_PROVINCIA').isin(['31'])),'Navarra')\\\n",
    "    .when((f.col('CD_PROVINCIA').isin(['20','48','01'])),'Pais_Vasco')\\\n",
    "    .when((f.col('CD_PROVINCIA').isin(['12','46','03'])),'Valenciana')\\\n",
    "    .when((f.col('CD_PROVINCIA').isin(['00'])),'00')\\\n",
    "        .otherwise(''))"
   ]
  },
  {
   "cell_type": "code",
   "execution_count": null,
   "metadata": {},
   "outputs": [],
   "source": [
    "### Comprobación resultado de la variable CD_PROVINCIA\n",
    "\n",
    "df\\\n",
    ".select(df.fisc_resid_prov_id, df.CD_PROVINCIA, df.COM_AUTONOMA)\\\n",
    ".show(5, False)"
   ]
  },
  {
   "cell_type": "markdown",
   "metadata": {},
   "source": [
    "## ESCRITURA Y LECTURA FICHERO NUEVAS VARIABLES"
   ]
  },
  {
   "cell_type": "code",
   "execution_count": null,
   "metadata": {},
   "outputs": [],
   "source": [
    "#Creamos una vista del fichero\n",
    "\n",
    "df.createOrReplaceTempView(\"df\")"
   ]
  },
  {
   "cell_type": "code",
   "execution_count": null,
   "metadata": {},
   "outputs": [],
   "source": [
    "# Comprobamos que la vista se ha creado satisfactoriamente\n",
    "\n",
    "spark.sql(\"\"\"\n",
    "SELECT * FROM df\n",
    "\"\"\").show(5, False)"
   ]
  },
  {
   "cell_type": "code",
   "execution_count": null,
   "metadata": {},
   "outputs": [],
   "source": [
    "# Comprobamos que la vista se ha creado satisfactoriamente\n",
    "\n",
    "df_gv4=spark.sql(\"\"\"\n",
    "SELECT * FROM df\n",
    "\"\"\")"
   ]
  },
  {
   "cell_type": "code",
   "execution_count": null,
   "metadata": {},
   "outputs": [],
   "source": [
    "# Persistimos el fichero en el Sandbox, con el nombre df_gv4\n",
    "\n",
    "spark.sql(\"\"\"\n",
    "CREATE TABLE df_gv4\n",
    "USING PARQUET\n",
    "LOCATION '/data/sandboxes/...'\n",
    "AS\n",
    "SELECT *\n",
    "FROM df\n",
    "\"\"\")"
   ]
  },
  {
   "cell_type": "code",
   "execution_count": null,
   "metadata": {},
   "outputs": [],
   "source": [
    "# Guardamos en la variable df_gv4_sas, los campos necesarios\n",
    "\n",
    "df_gv4_sas=spark.sql(\"\"\"\n",
    "SELECT work_contract_type, \n",
    "Tipo_cliente, \n",
    "cnae_cno, \n",
    "cnae_cno_id, \n",
    "company_cnae_id, \n",
    "ppty_dest_id, ppty_subdest_id,\n",
    "Destino_subdestino, \n",
    "ppal_good_finance_amount, \n",
    "risk_financed_amount, \n",
    "ratio_financiacion, \n",
    "prop_lim_operation_amount, \n",
    "ratio_financiacion_2, \n",
    "operation_term_month_number, \n",
    "ratio_imp_fin_plazo, \n",
    "ind_plazo, \n",
    "ind_plazo2, \n",
    "ind_plazo3, \n",
    "ind_importe_finan, \n",
    "new_second_hand_type, \n",
    "imp_finan_nuevousado, \n",
    "age_number, \n",
    "ind_edad, \n",
    "ind_edad2, \n",
    "start_act_y_number, \n",
    "co_years_month_number, \n",
    "antiguedad_empresa, \n",
    "request_date, \n",
    "anio_antiguedad_empresa, \n",
    "ind_ant_empresa, \n",
    "ind_ant_empresa2, \n",
    "ant_empresa_tip_trabajo, \n",
    "ind_tipo_contrato, \n",
    "ant_empresa_tip_trabajo2, \n",
    "edad_ant_empresa, \n",
    "edad_ant_empresa2, \n",
    "edad_ant_empresa3, \n",
    "civil_status_type, \n",
    "usual_residence_id, \n",
    "Estaciv_reside, \n",
    "ag_estado_civil, \n",
    "ag_reshabitual, \n",
    "Estaciv_reside2, \n",
    "edad_res_habitual, \n",
    "edad_res_habitual2, \n",
    "fix_income_amount, \n",
    "dem_var_inc_amount, \n",
    "Total_ingresos,\n",
    "risk_fee_amount,\n",
    "Ratio_Ingresos_cuota, \n",
    "Ratio_disponible_dispuesto, \n",
    "loan_lv_rk_amount, \n",
    "Ratio_prestamo_riesgo, \n",
    "Cuota_bbva, \n",
    "Numero_de_vueltas, \n",
    "Num_vueltas_BBVA, \n",
    "Tasa_de_esfuerzo, \n",
    "Ind_esfuerzo_plazo, \n",
    "Ind_esfuerzo_plazo2, \n",
    "marital_reg_type, \n",
    "estadociv_regmat, \n",
    "asnef_issue_number, \n",
    "irr_inv_d_number, \n",
    "alerta_inc, \n",
    "plazo_destino, \n",
    "plazo_destino2, \n",
    "plazo_destino3, \n",
    "fisc_resid_prov_id, \n",
    "CD_PROVINCIA, \n",
    "COM_AUTONOMA\n",
    "FROM df_gv4\n",
    "\"\"\")"
   ]
  },
  {
   "cell_type": "code",
   "execution_count": null,
   "metadata": {},
   "outputs": [],
   "source": [
    "# Creamos una vista de la select anterior\n",
    "\n",
    "df_gv4_sas.createOrReplaceTempView(\"df_gv4_sas\")"
   ]
  },
  {
   "cell_type": "code",
   "execution_count": null,
   "metadata": {},
   "outputs": [],
   "source": [
    "# Persistimos el fichero en el Sandbox, con el nombre df_gv4_sas\n",
    "\n",
    "spark.sql(\"\"\"\n",
    "CREATE TABLE df_gv4_sas\n",
    "USING PARQUET\n",
    "LOCATION '/data/sandboxes/...'\n",
    "AS\n",
    "SELECT *\n",
    "FROM df_gv4_sas\n",
    "\"\"\")"
   ]
  },
  {
   "cell_type": "code",
   "execution_count": null,
   "metadata": {},
   "outputs": [],
   "source": [
    "# Comprobamos que la vista df_gv4_sas se ha creado correctamente\n",
    "\n",
    "spark.sql(\"\"\"\n",
    "SELECT *\n",
    "FROM df_gv4_sas\n",
    "\"\"\").show(5, False)"
   ]
  }
 ],
 "metadata": {
  "kernelspec": {
   "display_name": "d1-spark2python3",
   "language": "python",
   "name": "spark-python-d1-spark2python3"
  },
  "language_info": {
   "codemirror_mode": {
    "name": "ipython",
    "version": 3
   },
   "file_extension": ".py",
   "mimetype": "text/x-python",
   "name": "python",
   "nbconvert_exporter": "python",
   "pygments_lexer": "ipython3",
   "version": "3.5.2"
  },
  "toc-autonumbering": true
 },
 "nbformat": 4,
 "nbformat_minor": 4
}
