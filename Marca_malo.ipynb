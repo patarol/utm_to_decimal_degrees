{
 "cells": [
  {
   "cell_type": "code",
   "execution_count": null,
   "metadata": {},
   "outputs": [],
   "source": [
    "import pyspark.sql.functions as F\n",
    "from pyspark.sql.types import StringType, IntegerType\n",
    "from  pyspark.sql.functions import to_timestamp"
   ]
  },
  {
   "cell_type": "markdown",
   "metadata": {},
   "source": [
    "## Lectura de datos"
   ]
  },
  {
   "cell_type": "code",
   "execution_count": null,
   "metadata": {},
   "outputs": [],
   "source": [
    "path = \"/data/sandboxes/ranh/data/proyectos/coe_credito/2020/motores/fichero_1_mejtit_rs_madiva_seg/*\""
   ]
  },
  {
   "cell_type": "code",
   "execution_count": null,
   "metadata": {},
   "outputs": [],
   "source": [
    "df = spark.read.parquet(path)"
   ]
  },
  {
   "cell_type": "code",
   "execution_count": null,
   "metadata": {},
   "outputs": [],
   "source": [
    "(df.count(),len(df.columns))"
   ]
  },
  {
   "cell_type": "markdown",
   "metadata": {},
   "source": [
    "## Nos quedamos con las formalizadas"
   ]
  },
  {
   "cell_type": "code",
   "execution_count": null,
   "metadata": {},
   "outputs": [],
   "source": [
    "df_form = df.filter(F.col('info_form')==1)"
   ]
  },
  {
   "cell_type": "code",
   "execution_count": null,
   "metadata": {},
   "outputs": [],
   "source": [
    "df_form.count()"
   ]
  },
  {
   "cell_type": "markdown",
   "metadata": {},
   "source": [
    "## Fechas"
   ]
  },
  {
   "cell_type": "code",
   "execution_count": null,
   "metadata": {},
   "outputs": [],
   "source": [
    "df_form = df_form.withColumn(\n",
    "    \"fec_anterior\", F.add_months(F.col(\"risk_formalization_date\"),-10))"
   ]
  },
  {
   "cell_type": "markdown",
   "metadata": {},
   "source": [
    "# Subciclos"
   ]
  },
  {
   "cell_type": "code",
   "execution_count": null,
   "metadata": {},
   "outputs": [],
   "source": [
    "df_contratos = df_form.select(\"contrato28_in\", \"fec_anterior\", \"risk_formalization_date\").distinct()"
   ]
  },
  {
   "cell_type": "code",
   "execution_count": null,
   "metadata": {},
   "outputs": [],
   "source": [
    "data_path=\"/data/master/risk/ecrk/data/\"\n",
    "file_name='t_ecrk_risk_subcycle_contract_m'\n",
    "full_path_subcicle=data_path+file_name"
   ]
  },
  {
   "cell_type": "code",
   "execution_count": null,
   "metadata": {},
   "outputs": [],
   "source": [
    "df_subcicles = spark.read.parquet(full_path_subcicle)"
   ]
  },
  {
   "cell_type": "code",
   "execution_count": null,
   "metadata": {},
   "outputs": [],
   "source": [
    "df_subcicles = df_subcicles.withColumn('contrato28_in', \n",
    "                    F.concat(F.col('entity_id'),\n",
    "                    F.col('branch_id'),\n",
    "                    F.col('counterpart_id'),\n",
    "                    F.col('oper_page_id') ))"
   ]
  },
  {
   "cell_type": "code",
   "execution_count": null,
   "metadata": {},
   "outputs": [],
   "source": [
    "df_form_subcicles = df_contratos.join(df_subcicles,[\"contrato28_in\"])"
   ]
  },
  {
   "cell_type": "code",
   "execution_count": null,
   "metadata": {},
   "outputs": [],
   "source": [
    "# Mora en 10 meses antes - Indicador de cura\n",
    "df_form_subcicles = df_form_subcicles.withColumn(\n",
    "    \"IND_CURA\", F.when(((F.col('fec_anterior') < F.col('exit_subcycle_contr_date')) &\n",
    "                        (F.col('exit_subcycle_contr_date') <= F.col('risk_formalization_date'))), \"1\").otherwise(\"0\"))"
   ]
  },
  {
   "cell_type": "code",
   "execution_count": null,
   "metadata": {},
   "outputs": [],
   "source": [
    "# mora en el momento\n",
    "df_form_subcicles = df_form_subcicles.withColumn(\n",
    "    \"IND_MORA_OBS\", F.when(((F.col('entry_subcycle_contr_date') <= F.col('risk_formalization_date')) &\n",
    "                            (F.col('risk_formalization_date') < F.col('exit_subcycle_contr_date'))), \"1\").otherwise(\"0\"))"
   ]
  },
  {
   "cell_type": "code",
   "execution_count": null,
   "metadata": {},
   "outputs": [],
   "source": [
    "# Marcar como morosas aquellos clientes que tienen un ciclo de morosidad abierto dentro del periodo de comportamiento\n",
    "df_form_subcicles = df_form_subcicles.withColumn(\n",
    "    \"IND_MORA\", F.when((F.col('risk_formalization_date') < F.col('entry_subcycle_contr_date')), \"1\").otherwise(\"0\"))"
   ]
  },
  {
   "cell_type": "code",
   "execution_count": null,
   "metadata": {},
   "outputs": [],
   "source": [
    "# aggregate contracts, take the value 1 if there is any.\n",
    "df_form_subcicles_mora = df_form_subcicles.groupby(\"contrato28_in\", 'risk_formalization_date').agg(\n",
    "    F.max('IND_CURA').alias('IND_CURA'),\n",
    "    F.max('IND_MORA_OBS').alias('IND_MORA_OBS'),\n",
    "    F.max('IND_MORA').alias('IND_MORA'),\n",
    "    F.min('entry_subcycle_contr_date').alias('FEC_ENTRADSUBC'))"
   ]
  },
  {
   "cell_type": "code",
   "execution_count": null,
   "metadata": {},
   "outputs": [],
   "source": [
    "df_form_subcicles_mora.count()"
   ]
  },
  {
   "cell_type": "code",
   "execution_count": null,
   "metadata": {},
   "outputs": [],
   "source": [
    "left_join = df_form.join(df_form_subcicles_mora,[\"contrato28_in\", \"risk_formalization_date\"], how='left')"
   ]
  },
  {
   "cell_type": "code",
   "execution_count": null,
   "metadata": {},
   "outputs": [],
   "source": [
    "left_join = left_join.cache()"
   ]
  },
  {
   "cell_type": "code",
   "execution_count": null,
   "metadata": {},
   "outputs": [],
   "source": [
    "left_join.count()"
   ]
  },
  {
   "cell_type": "code",
   "execution_count": null,
   "metadata": {},
   "outputs": [],
   "source": [
    "# fill nulls with \"0\" for \"IND_CURA\", \"IND_MORA_OBS\" and \"IND_MORA\"\n",
    "df_form_mora = left_join.withColumn(\n",
    "    \"IND_CURA\", F.when(F.col(\"IND_CURA\").isin(['0','1']), F.col(\"IND_CURA\")).otherwise(\"0\")).withColumn(\n",
    "    \"IND_MORA_OBS\", F.when(F.col(\"IND_MORA_OBS\").isin(['0','1']), F.col(\"IND_MORA_OBS\")).otherwise(\"0\")).withColumn(\n",
    "    \"IND_MORA\", F.when(F.col(\"IND_MORA\").isin(['0','1']), F.col(\"IND_MORA\")).otherwise(\"0\"))"
   ]
  },
  {
   "cell_type": "markdown",
   "metadata": {},
   "source": [
    "# Refis SAS Hreprog (no esta en Datio)"
   ]
  },
  {
   "cell_type": "code",
   "execution_count": null,
   "metadata": {},
   "outputs": [],
   "source": [
    "#actualizar con el último fichero hreprog\n",
    "path_sandbox = \"/data/sandboxes/ranh/data\"\n",
    "path_file = \"/bbdd/externo/hreprog/hreprog20200422.csv\"\n",
    "sandbox_file = path_sandbox + path_file\n",
    "df_hreprog = spark.read.csv(sandbox_file, header=True)"
   ]
  },
  {
   "cell_type": "code",
   "execution_count": null,
   "metadata": {},
   "outputs": [],
   "source": [
    "df_hreprog = df_hreprog.withColumn(\"contrato28_in\",F.substring(df_hreprog['CONTRATO_RDO'], 1, 28))"
   ]
  },
  {
   "cell_type": "code",
   "execution_count": null,
   "metadata": {},
   "outputs": [],
   "source": [
    "df_hreprog=df_hreprog.withColumn(\"FEC_INI_REFI2\",to_timestamp(F.col('FEC_INI_REFI'),\"dd-MM-yyyy\"))"
   ]
  },
  {
   "cell_type": "code",
   "execution_count": null,
   "metadata": {},
   "outputs": [],
   "source": [
    "df_mora_refi = df_form_mora.join(df_hreprog.select('contrato28_in','FEC_INI_REFI2'),\n",
    "                                [\"contrato28_in\"], how='left')"
   ]
  },
  {
   "cell_type": "code",
   "execution_count": null,
   "metadata": {},
   "outputs": [],
   "source": [
    "df_mora_refi = df_mora_refi.cache()\n",
    "df_mora_refi.count()"
   ]
  },
  {
   "cell_type": "code",
   "execution_count": null,
   "metadata": {},
   "outputs": [],
   "source": [
    "df_mora_refi = df_mora_refi.withColumn(\n",
    "    \"IND_REFI\", F.when((F.col('FEC_INI_REFI2') >= F.col('risk_formalization_date')), \"1\").otherwise(\"0\"))"
   ]
  },
  {
   "cell_type": "code",
   "execution_count": null,
   "metadata": {},
   "outputs": [],
   "source": [
    "df_mora_refi = df_mora_refi.withColumn(\n",
    "    \"IND_MORA_DEF\",F.when( (F.col(\"IND_MORA\")==\"1\") | (F.col(\"IND_REFI\") == \"1\"), \"1\").otherwise(\"0\"))"
   ]
  },
  {
   "cell_type": "code",
   "execution_count": null,
   "metadata": {},
   "outputs": [],
   "source": [
    "df_mora_refi = df_mora_refi.groupby(\"contrato28_in\").agg(\n",
    "    F.max('IND_MORA_DEF').alias('IND_MORA_DEF'),\n",
    "    F.min('FEC_ENTRADSUBC').alias('FEC_ENTRADSUBC'),\n",
    "    F.min('FEC_INI_REFI2').alias('FEC_INI_REFI2'))"
   ]
  },
  {
   "cell_type": "code",
   "execution_count": null,
   "metadata": {},
   "outputs": [],
   "source": [
    "df_mora_refi = df_mora_refi.cache()\n",
    "df_mora_refi.count()"
   ]
  },
  {
   "cell_type": "code",
   "execution_count": null,
   "metadata": {},
   "outputs": [],
   "source": [
    "df_mora = df.join(df_mora_refi,[\"contrato28_in\"], how='left')"
   ]
  },
  {
   "cell_type": "code",
   "execution_count": null,
   "metadata": {},
   "outputs": [],
   "source": [
    "df_mora.groupby('IND_MORA_DEF').count().show()"
   ]
  }
 ],
 "metadata": {
  "kernelspec": {
   "display_name": "d1-spark2python3",
   "language": "python",
   "name": "spark-python-d1-spark2python3"
  },
  "language_info": {
   "codemirror_mode": {
    "name": "ipython",
    "version": 3
   },
   "file_extension": ".py",
   "mimetype": "text/x-python",
   "name": "python",
   "nbconvert_exporter": "python",
   "pygments_lexer": "ipython3",
   "version": "3.5.2"
  }
 },
 "nbformat": 4,
 "nbformat_minor": 4
}
